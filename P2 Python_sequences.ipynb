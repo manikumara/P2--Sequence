{
 "cells": [
  {
   "cell_type": "markdown",
   "metadata": {},
   "source": [
    "# Sequence data types\n"
   ]
  },
  {
   "cell_type": "markdown",
   "metadata": {},
   "source": [
    "\n",
    "## List\n"
   ]
  },
  {
   "cell_type": "code",
   "execution_count": 1,
   "metadata": {
    "ExecuteTime": {
     "end_time": "2021-10-02T17:56:10.398946Z",
     "start_time": "2021-10-02T17:56:10.367966Z"
    }
   },
   "outputs": [
    {
     "data": {
      "text/plain": [
       "[1, 2, 3, 4]"
      ]
     },
     "execution_count": 1,
     "metadata": {},
     "output_type": "execute_result"
    }
   ],
   "source": [
    "#Create a list\n",
    "lst = [1,2,3,4]\n",
    "lst"
   ]
  },
  {
   "cell_type": "code",
   "execution_count": 2,
   "metadata": {
    "ExecuteTime": {
     "end_time": "2021-10-02T17:56:10.494883Z",
     "start_time": "2021-10-02T17:56:10.402942Z"
    }
   },
   "outputs": [
    {
     "data": {
      "text/plain": [
       "list"
      ]
     },
     "execution_count": 2,
     "metadata": {},
     "output_type": "execute_result"
    }
   ],
   "source": [
    "type(lst)"
   ]
  },
  {
   "cell_type": "code",
   "execution_count": 3,
   "metadata": {
    "ExecuteTime": {
     "end_time": "2021-10-02T17:56:10.619807Z",
     "start_time": "2021-10-02T17:56:10.501882Z"
    }
   },
   "outputs": [
    {
     "data": {
      "text/plain": [
       "['apple', 'plum', 'pear', 'mango']"
      ]
     },
     "execution_count": 3,
     "metadata": {},
     "output_type": "execute_result"
    }
   ],
   "source": [
    "# list can be hetrogeneous, can store dif types of data types\n",
    "lst1= ['apple','plum','pear','mango']\n",
    "lst1"
   ]
  },
  {
   "cell_type": "code",
   "execution_count": 4,
   "metadata": {
    "ExecuteTime": {
     "end_time": "2021-10-02T17:56:10.730280Z",
     "start_time": "2021-10-02T17:56:10.625804Z"
    }
   },
   "outputs": [
    {
     "data": {
      "text/plain": [
       "list"
      ]
     },
     "execution_count": 4,
     "metadata": {},
     "output_type": "execute_result"
    }
   ],
   "source": [
    "type(lst1)"
   ]
  },
  {
   "cell_type": "code",
   "execution_count": 5,
   "metadata": {
    "ExecuteTime": {
     "end_time": "2021-10-02T17:56:10.826362Z",
     "start_time": "2021-10-02T17:56:10.734278Z"
    }
   },
   "outputs": [],
   "source": [
    "lst2 = []"
   ]
  },
  {
   "cell_type": "markdown",
   "metadata": {},
   "source": [
    "# tuple"
   ]
  },
  {
   "cell_type": "code",
   "execution_count": 6,
   "metadata": {
    "ExecuteTime": {
     "end_time": "2021-10-02T17:56:10.905404Z",
     "start_time": "2021-10-02T17:56:10.830359Z"
    }
   },
   "outputs": [
    {
     "data": {
      "text/plain": [
       "(1, 2, '3D Objects')"
      ]
     },
     "execution_count": 6,
     "metadata": {},
     "output_type": "execute_result"
    }
   ],
   "source": [
    "tup1 = (1,2,\"3D Objects\")\n",
    "tup1"
   ]
  },
  {
   "cell_type": "markdown",
   "metadata": {},
   "source": [
    "# String"
   ]
  },
  {
   "cell_type": "code",
   "execution_count": 7,
   "metadata": {
    "ExecuteTime": {
     "end_time": "2021-10-02T17:56:11.012781Z",
     "start_time": "2021-10-02T17:56:10.909375Z"
    }
   },
   "outputs": [],
   "source": [
    "my_str = 'John'"
   ]
  },
  {
   "cell_type": "code",
   "execution_count": 8,
   "metadata": {
    "ExecuteTime": {
     "end_time": "2021-10-02T17:56:11.107445Z",
     "start_time": "2021-10-02T17:56:11.031769Z"
    }
   },
   "outputs": [
    {
     "data": {
      "text/plain": [
       "2188522149104"
      ]
     },
     "execution_count": 8,
     "metadata": {},
     "output_type": "execute_result"
    }
   ],
   "source": [
    "id(my_str)"
   ]
  },
  {
   "cell_type": "code",
   "execution_count": 9,
   "metadata": {
    "ExecuteTime": {
     "end_time": "2021-10-02T17:56:11.215928Z",
     "start_time": "2021-10-02T17:56:11.114417Z"
    }
   },
   "outputs": [
    {
     "data": {
      "text/plain": [
       "'0x1fd8e15d4f0'"
      ]
     },
     "execution_count": 9,
     "metadata": {},
     "output_type": "execute_result"
    }
   ],
   "source": [
    "hex(id(my_str))"
   ]
  },
  {
   "cell_type": "code",
   "execution_count": 10,
   "metadata": {
    "ExecuteTime": {
     "end_time": "2021-10-02T17:56:11.324464Z",
     "start_time": "2021-10-02T17:56:11.222920Z"
    }
   },
   "outputs": [],
   "source": [
    "my_str = 'Jammy'"
   ]
  },
  {
   "cell_type": "code",
   "execution_count": 11,
   "metadata": {
    "ExecuteTime": {
     "end_time": "2021-10-02T17:56:11.432929Z",
     "start_time": "2021-10-02T17:56:11.328431Z"
    }
   },
   "outputs": [
    {
     "data": {
      "text/plain": [
       "2188522198448"
      ]
     },
     "execution_count": 11,
     "metadata": {},
     "output_type": "execute_result"
    }
   ],
   "source": [
    "id(my_str)"
   ]
  },
  {
   "cell_type": "code",
   "execution_count": 12,
   "metadata": {
    "ExecuteTime": {
     "end_time": "2021-10-02T17:56:11.544148Z",
     "start_time": "2021-10-02T17:56:11.444921Z"
    }
   },
   "outputs": [
    {
     "data": {
      "text/plain": [
       "\"#Integers, strings are immutable- cannot update the value without changing the location of he variable\\n(ID changes when you assign the same)\\n#When you do this operation John will be orphan value which was not part of any varable, \\nthese kind of values will be removed by the python's internal garbage collector.\""
      ]
     },
     "execution_count": 12,
     "metadata": {},
     "output_type": "execute_result"
    }
   ],
   "source": [
    "'''#Integers, strings are immutable- cannot update the value without changing the location of he variable\n",
    "(ID changes when you assign the same)\n",
    "#When you do this operation John will be orphan value which was not part of any varable, \n",
    "these kind of values will be removed by the python's internal garbage collector.'''\n"
   ]
  },
  {
   "cell_type": "code",
   "execution_count": 13,
   "metadata": {
    "ExecuteTime": {
     "end_time": "2021-10-02T17:56:11.637601Z",
     "start_time": "2021-10-02T17:56:11.548102Z"
    }
   },
   "outputs": [],
   "source": [
    "#list- Mutable, can add, remove, modify the elements.\n",
    "#Cannot modify the tuple and string- immutable"
   ]
  },
  {
   "cell_type": "code",
   "execution_count": 14,
   "metadata": {
    "ExecuteTime": {
     "end_time": "2021-10-02T17:56:11.747554Z",
     "start_time": "2021-10-02T17:56:11.640520Z"
    }
   },
   "outputs": [
    {
     "data": {
      "text/plain": [
       "'mango'"
      ]
     },
     "execution_count": 14,
     "metadata": {},
     "output_type": "execute_result"
    }
   ],
   "source": [
    "#accessing list elements\n",
    "lst1[3]"
   ]
  },
  {
   "cell_type": "code",
   "execution_count": 15,
   "metadata": {
    "ExecuteTime": {
     "end_time": "2021-10-02T17:56:11.840747Z",
     "start_time": "2021-10-02T17:56:11.758530Z"
    }
   },
   "outputs": [
    {
     "data": {
      "text/plain": [
       "['plum', 'pear']"
      ]
     },
     "execution_count": 15,
     "metadata": {},
     "output_type": "execute_result"
    }
   ],
   "source": [
    "#Slicing:\n",
    "lst1[1:3]"
   ]
  },
  {
   "cell_type": "code",
   "execution_count": 16,
   "metadata": {
    "ExecuteTime": {
     "end_time": "2021-10-02T17:56:12.059075Z",
     "start_time": "2021-10-02T17:56:11.844726Z"
    }
   },
   "outputs": [
    {
     "data": {
      "text/plain": [
       "['mango', 'pear', 'plum', 'apple']"
      ]
     },
     "execution_count": 16,
     "metadata": {},
     "output_type": "execute_result"
    }
   ],
   "source": [
    "#reversing the order\n",
    "lst1[-1::-1]"
   ]
  },
  {
   "cell_type": "code",
   "execution_count": 17,
   "metadata": {
    "ExecuteTime": {
     "end_time": "2021-10-02T17:56:12.292855Z",
     "start_time": "2021-10-02T17:56:12.067061Z"
    }
   },
   "outputs": [
    {
     "data": {
      "text/plain": [
       "['mango', 'plum']"
      ]
     },
     "execution_count": 17,
     "metadata": {},
     "output_type": "execute_result"
    }
   ],
   "source": [
    "lst1[-1::-2]"
   ]
  },
  {
   "cell_type": "code",
   "execution_count": 18,
   "metadata": {
    "ExecuteTime": {
     "end_time": "2021-10-02T17:56:12.511886Z",
     "start_time": "2021-10-02T17:56:12.304825Z"
    }
   },
   "outputs": [],
   "source": [
    "lst4 = [1,2,3,4,5,6,7,8,9,10]"
   ]
  },
  {
   "cell_type": "code",
   "execution_count": 19,
   "metadata": {
    "ExecuteTime": {
     "end_time": "2021-10-02T17:56:12.749744Z",
     "start_time": "2021-10-02T17:56:12.523891Z"
    }
   },
   "outputs": [
    {
     "data": {
      "text/plain": [
       "[3, 4, 5]"
      ]
     },
     "execution_count": 19,
     "metadata": {},
     "output_type": "execute_result"
    }
   ],
   "source": [
    "lst4[2:5]"
   ]
  },
  {
   "cell_type": "code",
   "execution_count": 20,
   "metadata": {
    "ExecuteTime": {
     "end_time": "2021-10-02T17:56:12.843946Z",
     "start_time": "2021-10-02T17:56:12.761716Z"
    }
   },
   "outputs": [
    {
     "data": {
      "text/plain": [
       "[1, 2, 3, 4, 5, 6]"
      ]
     },
     "execution_count": 20,
     "metadata": {},
     "output_type": "execute_result"
    }
   ],
   "source": [
    "lst4[:6]"
   ]
  },
  {
   "cell_type": "code",
   "execution_count": 21,
   "metadata": {
    "ExecuteTime": {
     "end_time": "2021-10-02T17:56:12.938049Z",
     "start_time": "2021-10-02T17:56:12.848943Z"
    }
   },
   "outputs": [
    {
     "data": {
      "text/plain": [
       "[1, 2, 3, 4, 5, 6, 7, 8, 9, 10]"
      ]
     },
     "execution_count": 21,
     "metadata": {},
     "output_type": "execute_result"
    }
   ],
   "source": [
    "lst4[:]"
   ]
  },
  {
   "cell_type": "code",
   "execution_count": 22,
   "metadata": {
    "ExecuteTime": {
     "end_time": "2021-10-02T17:56:13.033430Z",
     "start_time": "2021-10-02T17:56:12.943049Z"
    }
   },
   "outputs": [
    {
     "data": {
      "text/plain": [
       "[2, 4, 6, 8]"
      ]
     },
     "execution_count": 22,
     "metadata": {},
     "output_type": "execute_result"
    }
   ],
   "source": [
    "lst4[1:8:2]"
   ]
  },
  {
   "cell_type": "code",
   "execution_count": 23,
   "metadata": {
    "ExecuteTime": {
     "end_time": "2021-10-02T17:56:13.174525Z",
     "start_time": "2021-10-02T17:56:13.053420Z"
    }
   },
   "outputs": [],
   "source": [
    "lst4[0]= 'plum'"
   ]
  },
  {
   "cell_type": "code",
   "execution_count": 24,
   "metadata": {
    "ExecuteTime": {
     "end_time": "2021-10-02T17:56:13.269555Z",
     "start_time": "2021-10-02T17:56:13.181527Z"
    }
   },
   "outputs": [
    {
     "data": {
      "text/plain": [
       "['plum', 2, 3, 4, 5, 6, 7, 8, 9, 10]"
      ]
     },
     "execution_count": 24,
     "metadata": {},
     "output_type": "execute_result"
    }
   ],
   "source": [
    "lst4"
   ]
  },
  {
   "cell_type": "code",
   "execution_count": 25,
   "metadata": {
    "ExecuteTime": {
     "end_time": "2021-10-02T17:56:13.503274Z",
     "start_time": "2021-10-02T17:56:13.274553Z"
    }
   },
   "outputs": [
    {
     "data": {
      "text/plain": [
       "'u'"
      ]
     },
     "execution_count": 25,
     "metadata": {},
     "output_type": "execute_result"
    }
   ],
   "source": [
    "#Accessing a letter form plum- u\n",
    "lst4[0][2]"
   ]
  },
  {
   "cell_type": "code",
   "execution_count": 26,
   "metadata": {
    "ExecuteTime": {
     "end_time": "2021-10-02T17:56:13.742022Z",
     "start_time": "2021-10-02T17:56:13.510225Z"
    }
   },
   "outputs": [
    {
     "ename": "TypeError",
     "evalue": "'str' object does not support item assignment",
     "output_type": "error",
     "traceback": [
      "\u001b[1;31m---------------------------------------------------------------------------\u001b[0m",
      "\u001b[1;31mTypeError\u001b[0m                                 Traceback (most recent call last)",
      "\u001b[1;32m<ipython-input-26-d5b9fcaa6f22>\u001b[0m in \u001b[0;36m<module>\u001b[1;34m\u001b[0m\n\u001b[0;32m      1\u001b[0m \u001b[1;31m# cannot modity the srting\u001b[0m\u001b[1;33m\u001b[0m\u001b[1;33m\u001b[0m\u001b[1;33m\u001b[0m\u001b[0m\n\u001b[1;32m----> 2\u001b[1;33m \u001b[0mlst4\u001b[0m\u001b[1;33m[\u001b[0m\u001b[1;36m0\u001b[0m\u001b[1;33m]\u001b[0m\u001b[1;33m[\u001b[0m\u001b[1;36m2\u001b[0m\u001b[1;33m]\u001b[0m\u001b[1;33m=\u001b[0m\u001b[1;34m'o'\u001b[0m\u001b[1;33m\u001b[0m\u001b[1;33m\u001b[0m\u001b[0m\n\u001b[0m",
      "\u001b[1;31mTypeError\u001b[0m: 'str' object does not support item assignment"
     ]
    }
   ],
   "source": [
    "# cannot modity the srting\n",
    "lst4[0][2]='o'"
   ]
  },
  {
   "cell_type": "code",
   "execution_count": 28,
   "metadata": {
    "ExecuteTime": {
     "end_time": "2021-10-02T17:58:39.538347Z",
     "start_time": "2021-10-02T17:58:39.525357Z"
    }
   },
   "outputs": [
    {
     "data": {
      "text/plain": [
       "[10, 9, 8, 7, 6, 5, 4, 3, 2, 'plum']"
      ]
     },
     "execution_count": 28,
     "metadata": {},
     "output_type": "execute_result"
    }
   ],
   "source": [
    "#Reverse all\n",
    "lst4[::-1]"
   ]
  },
  {
   "cell_type": "code",
   "execution_count": 29,
   "metadata": {
    "ExecuteTime": {
     "end_time": "2021-10-02T18:01:40.721387Z",
     "start_time": "2021-10-02T18:01:40.702399Z"
    }
   },
   "outputs": [
    {
     "data": {
      "text/plain": [
       "'love p'"
      ]
     },
     "execution_count": 29,
     "metadata": {},
     "output_type": "execute_result"
    }
   ],
   "source": [
    "my_str = 'i love python'\n",
    "my_str[2:8]"
   ]
  },
  {
   "cell_type": "code",
   "execution_count": 32,
   "metadata": {
    "ExecuteTime": {
     "end_time": "2021-10-02T18:03:38.652004Z",
     "start_time": "2021-10-02T18:03:38.631018Z"
    }
   },
   "outputs": [
    {
     "data": {
      "text/plain": [
       "'nohtyp evol i'"
      ]
     },
     "execution_count": 32,
     "metadata": {},
     "output_type": "execute_result"
    }
   ],
   "source": [
    "my_str[::-1]"
   ]
  },
  {
   "cell_type": "code",
   "execution_count": 35,
   "metadata": {
    "ExecuteTime": {
     "end_time": "2021-10-02T18:04:30.696189Z",
     "start_time": "2021-10-02T18:04:30.687195Z"
    }
   },
   "outputs": [
    {
     "data": {
      "text/plain": [
       "'nohtyp evol'"
      ]
     },
     "execution_count": 35,
     "metadata": {},
     "output_type": "execute_result"
    }
   ],
   "source": [
    "my_str[12:1:-1]"
   ]
  },
  {
   "cell_type": "code",
   "execution_count": 38,
   "metadata": {
    "ExecuteTime": {
     "end_time": "2021-10-02T18:05:19.579052Z",
     "start_time": "2021-10-02T18:05:19.559064Z"
    }
   },
   "outputs": [
    {
     "data": {
      "text/plain": [
       "[(0, 'i'),\n",
       " (1, ' '),\n",
       " (2, 'l'),\n",
       " (3, 'o'),\n",
       " (4, 'v'),\n",
       " (5, 'e'),\n",
       " (6, ' '),\n",
       " (7, 'p'),\n",
       " (8, 'y'),\n",
       " (9, 't'),\n",
       " (10, 'h'),\n",
       " (11, 'o'),\n",
       " (12, 'n')]"
      ]
     },
     "execution_count": 38,
     "metadata": {},
     "output_type": "execute_result"
    }
   ],
   "source": [
    "list(enumerate(my_str))"
   ]
  },
  {
   "cell_type": "markdown",
   "metadata": {},
   "source": [
    "### All sequeces are iterable"
   ]
  },
  {
   "cell_type": "code",
   "execution_count": 39,
   "metadata": {
    "ExecuteTime": {
     "end_time": "2021-10-02T18:09:00.008738Z",
     "start_time": "2021-10-02T18:08:59.996743Z"
    }
   },
   "outputs": [],
   "source": [
    "fruits = ['Apple','Orange','Plum','Kiwi']"
   ]
  },
  {
   "cell_type": "code",
   "execution_count": 41,
   "metadata": {
    "ExecuteTime": {
     "end_time": "2021-10-02T18:10:55.283216Z",
     "start_time": "2021-10-02T18:10:55.267225Z"
    }
   },
   "outputs": [
    {
     "name": "stdout",
     "output_type": "stream",
     "text": [
      "Apple\n",
      "Orange\n",
      "Plum\n",
      "Kiwi\n"
     ]
    }
   ],
   "source": [
    "for elem in fruits:\n",
    "    print(elem)"
   ]
  },
  {
   "cell_type": "code",
   "execution_count": null,
   "metadata": {},
   "outputs": [],
   "source": [
    "for elem in fruits:\n",
    "    print(elem)"
   ]
  },
  {
   "cell_type": "code",
   "execution_count": 159,
   "metadata": {
    "ExecuteTime": {
     "end_time": "2021-10-02T19:10:42.483295Z",
     "start_time": "2021-10-02T19:10:42.464306Z"
    }
   },
   "outputs": [
    {
     "name": "stdout",
     "output_type": "stream",
     "text": [
      "1 letter is i\n",
      "2 letter is l\n",
      "3 letter is o\n",
      "4 letter is v\n",
      "5 letter is e\n",
      "6 letter is p\n",
      "7 letter is y\n",
      "8 letter is t\n",
      "9 letter is h\n",
      "10 letter is o\n",
      "11 letter is n\n",
      "\n",
      "\n",
      "2 letter is a space, hence igonred\n",
      "6 letter is a space, hence igonred\n"
     ]
    }
   ],
   "source": [
    "# ignore the spaces and count the lettrs in a sentence\n",
    "i = 1\n",
    "L= []\n",
    "for x in \"i love python\":\n",
    "    if x != ' ':\n",
    "        print(f'{i} letter is {x}')\n",
    "        i= i + 1    \n",
    "    else:\n",
    "        H= str(i) +' letter is a space, hence igonred'\n",
    "        L.append(H)\n",
    "print('\\n')\n",
    "for y in L:\n",
    "    print(y)\n"
   ]
  },
  {
   "cell_type": "code",
   "execution_count": 161,
   "metadata": {
    "ExecuteTime": {
     "end_time": "2021-10-02T19:12:28.653350Z",
     "start_time": "2021-10-02T19:12:28.646352Z"
    }
   },
   "outputs": [
    {
     "name": "stdout",
     "output_type": "stream",
     "text": [
      "11\n",
      "22\n",
      "33\n",
      "44\n",
      "55\n"
     ]
    }
   ],
   "source": [
    "tup= (11,22,33,44,55)\n",
    "for itr in tup:\n",
    "    print(itr)"
   ]
  },
  {
   "cell_type": "markdown",
   "metadata": {},
   "source": [
    " ## list and Tuple are heterogeneous- Can put any type of data types in side a list or tuple"
   ]
  },
  {
   "cell_type": "code",
   "execution_count": 163,
   "metadata": {
    "ExecuteTime": {
     "end_time": "2021-10-02T19:16:06.615322Z",
     "start_time": "2021-10-02T19:16:06.604329Z"
    }
   },
   "outputs": [
    {
     "data": {
      "text/plain": [
       "[1, 2, [2, 4], (2, 9, 89), 'abc']"
      ]
     },
     "execution_count": 163,
     "metadata": {},
     "output_type": "execute_result"
    }
   ],
   "source": [
    "lst5 = [1,2,[2,4],(2,9,89),'abc']\n",
    "lst5"
   ]
  },
  {
   "cell_type": "code",
   "execution_count": 169,
   "metadata": {
    "ExecuteTime": {
     "end_time": "2021-10-02T19:17:12.281881Z",
     "start_time": "2021-10-02T19:17:12.267890Z"
    }
   },
   "outputs": [
    {
     "data": {
      "text/plain": [
       "(1, 2, 3, (23, 5), [4, 87], 'lkjhgf')"
      ]
     },
     "execution_count": 169,
     "metadata": {},
     "output_type": "execute_result"
    }
   ],
   "source": [
    "tup1 = (1,2,3,(23,5),[4,87],'lkjhgf')\n",
    "tup1"
   ]
  },
  {
   "cell_type": "code",
   "execution_count": 172,
   "metadata": {
    "ExecuteTime": {
     "end_time": "2021-10-02T19:18:19.514128Z",
     "start_time": "2021-10-02T19:18:19.498139Z"
    }
   },
   "outputs": [
    {
     "data": {
      "text/plain": [
       "'Hello98'"
      ]
     },
     "execution_count": 172,
     "metadata": {},
     "output_type": "execute_result"
    }
   ],
   "source": [
    "my_str1 = 'Hello98'\n",
    "my_str1"
   ]
  },
  {
   "cell_type": "code",
   "execution_count": null,
   "metadata": {},
   "outputs": [],
   "source": []
  }
 ],
 "metadata": {
  "kernelspec": {
   "display_name": "Python 3",
   "language": "python",
   "name": "python3"
  },
  "language_info": {
   "codemirror_mode": {
    "name": "ipython",
    "version": 3
   },
   "file_extension": ".py",
   "mimetype": "text/x-python",
   "name": "python",
   "nbconvert_exporter": "python",
   "pygments_lexer": "ipython3",
   "version": "3.7.4"
  },
  "varInspector": {
   "cols": {
    "lenName": 16,
    "lenType": 16,
    "lenVar": 40
   },
   "kernels_config": {
    "python": {
     "delete_cmd_postfix": "",
     "delete_cmd_prefix": "del ",
     "library": "var_list.py",
     "varRefreshCmd": "print(var_dic_list())"
    },
    "r": {
     "delete_cmd_postfix": ") ",
     "delete_cmd_prefix": "rm(",
     "library": "var_list.r",
     "varRefreshCmd": "cat(var_dic_list()) "
    }
   },
   "types_to_exclude": [
    "module",
    "function",
    "builtin_function_or_method",
    "instance",
    "_Feature"
   ],
   "window_display": false
  }
 },
 "nbformat": 4,
 "nbformat_minor": 2
}
